{
 "cells": [
  {
   "cell_type": "markdown",
   "metadata": {},
   "source": [
    "### Calculate the number of digits and letters in a string"
   ]
  },
  {
   "cell_type": "code",
   "execution_count": 2,
   "metadata": {},
   "outputs": [
    {
     "name": "stdout",
     "output_type": "stream",
     "text": [
      "Enter the stringpython99\n",
      "Number of Strings  6\n",
      "Number of digits  2\n"
     ]
    }
   ],
   "source": [
    "s = input(\"Enter the string\")\n",
    "d = l = 0\n",
    "\n",
    "for b in s:\n",
    "    if b.isdigit():\n",
    "        d = d+1\n",
    "    elif b.isalpha():\n",
    "        l = l+1\n",
    "    else:\n",
    "        pass\n",
    "print(\"Number of Strings \",l)\n",
    "print(\"Number of digits \",d)"
   ]
  },
  {
   "cell_type": "markdown",
   "metadata": {},
   "source": [
    "### Write a Python program to check the validity of a password (input from users).\n",
    "\n",
    "* Validation :\n",
    "\n",
    "1. At least 1 letter between [a-z] and 1 letter between [A-Z].\n",
    "2. At least 1 number between [0-9].\n",
    "3. At least 1 character from [$#@].\n",
    "4. Minimum length 6 characters.\n",
    "5. Maximum length 16 characters."
   ]
  },
  {
   "cell_type": "code",
   "execution_count": 5,
   "metadata": {},
   "outputs": [
    {
     "name": "stdout",
     "output_type": "stream",
     "text": [
      "Enter the passwordAz321@\n",
      "Valid Password\n"
     ]
    }
   ],
   "source": [
    "import re\n",
    "p = input(\"Enter the password\")\n",
    "\n",
    "x = True\n",
    "while x:\n",
    "    if len(p)<6 or len(p)>12:\n",
    "        break\n",
    "    elif not re.search(\"[a-z]\",p):\n",
    "        break\n",
    "    elif not re.search(\"[0-9]\",p):\n",
    "        break\n",
    "    elif not re.search(\"[A-Z]\",p):\n",
    "        break\n",
    "    elif not re.search(\"[$#@]\",p):\n",
    "        break\n",
    "    elif re.search(\"\\s\",p):\n",
    "        break\n",
    "    else:\n",
    "        print(\"Valid Password\")\n",
    "        x = False\n",
    "        break\n",
    "if x:\n",
    "    print(\"Not a valid Password\")"
   ]
  },
  {
   "cell_type": "markdown",
   "metadata": {},
   "source": [
    "# Nesting for Loops"
   ]
  },
  {
   "cell_type": "code",
   "execution_count": 6,
   "metadata": {},
   "outputs": [
    {
     "data": {
      "image/png": "[encoded data removed]",
      "text/plain": [
       "<IPython.core.display.Image object>"
      ]
     },
     "execution_count": 6,
     "metadata": {},
     "output_type": "execute_result"
    }
   ],
   "source": [
    "from IPython.display import Image\n",
    "Image(\"nested_forloop.png\")"
   ]
  },
  {
   "cell_type": "code",
   "execution_count": 5,
   "metadata": {},
   "outputs": [
    {
     "name": "stdout",
     "output_type": "stream",
     "text": [
      "0 0\n",
      "0 1\n",
      "0 2\n",
      "0 3\n",
      "1 0\n",
      "1 1\n",
      "1 2\n",
      "1 3\n",
      "2 0\n",
      "2 1\n",
      "2 2\n",
      "2 3\n",
      "3 0\n",
      "3 1\n",
      "3 2\n",
      "3 3\n",
      "4 0\n",
      "4 1\n",
      "4 2\n",
      "4 3\n"
     ]
    }
   ],
   "source": [
    "for i in range(5):\n",
    "    for j in range(4):\n",
    "        print(i,j)"
   ]
  },
  {
   "cell_type": "code",
   "execution_count": 2,
   "metadata": {},
   "outputs": [
    {
     "name": "stdout",
     "output_type": "stream",
     "text": [
      "Congratulations  C++  found\n"
     ]
    }
   ],
   "source": [
    "laguages = [\"Python\",\"C#\",\"Java\",\"Perl\",\"C++\"]\n",
    "\n",
    "for i in laguages:\n",
    "    if i == \"C++\":\n",
    "        print(\"Congratulations \",i,\" found\")\n",
    "        break"
   ]
  },
  {
   "cell_type": "code",
   "execution_count": 3,
   "metadata": {},
   "outputs": [],
   "source": [
    "laguages = [\"Python\",\"C#\",\"Java\",\"Perl\",\"C++\"]\n",
    "\n",
    "for i in laguages:\n",
    "    if i == \"C++\":\n",
    "        print(\"Congratulations \",i,\" found\")\n",
    "    break"
   ]
  },
  {
   "cell_type": "code",
   "execution_count": 4,
   "metadata": {},
   "outputs": [
    {
     "name": "stdout",
     "output_type": "stream",
     "text": [
      "Ehtisham is logging in\n",
      "Welcome Ehtisham\n"
     ]
    }
   ],
   "source": [
    "logging = True\n",
    "logging_in = True\n",
    "name = \"Ehtisham\"\n",
    "\n",
    "if logging_in == True:\n",
    "    if logging == True:\n",
    "        print(name +\" is logging in\")\n",
    "    print(\"Welcome \"+name )"
   ]
  },
  {
   "cell_type": "code",
   "execution_count": 2,
   "metadata": {},
   "outputs": [
    {
     "name": "stdout",
     "output_type": "stream",
     "text": [
      "*\n",
      "**\n",
      "***\n",
      "****\n",
      "*****\n"
     ]
    }
   ],
   "source": [
    "for i in range(5): # i = 0, 1 2 3 4\n",
    "    for j in range(i+1): # j = 0 1 2  3  4range(4+1) =5 -> 0 1 2\n",
    "        print(end= \"*\")\n",
    "    print()"
   ]
  },
  {
   "cell_type": "code",
   "execution_count": 8,
   "metadata": {},
   "outputs": [
    {
     "name": "stdout",
     "output_type": "stream",
     "text": [
      "1 \n",
      "\n",
      "2 2 \n",
      "\n",
      "3 3 3 \n",
      "\n",
      "4 4 4 4 \n",
      "\n",
      "5 5 5 5 5 \n",
      "\n"
     ]
    }
   ],
   "source": [
    "for i in range(1,6):\n",
    "    for j in range(i):\n",
    "        print(i,end=\" \")\n",
    "    print('\\n')"
   ]
  },
  {
   "cell_type": "code",
   "execution_count": 11,
   "metadata": {},
   "outputs": [
    {
     "name": "stdout",
     "output_type": "stream",
     "text": [
      "red apple\n",
      "red banana\n",
      "red cherry\n",
      "big apple\n",
      "big banana\n",
      "big cherry\n",
      "tasty apple\n",
      "tasty banana\n",
      "tasty cherry\n"
     ]
    }
   ],
   "source": [
    "adj = [\"red\", \"big\", \"tasty\"]\n",
    "fruits = [\"apple\", \"banana\", \"cherry\"]\n",
    "\n",
    "for x in adj:\n",
    "  for y in fruits:\n",
    "    print(x, y)"
   ]
  },
  {
   "cell_type": "markdown",
   "metadata": {},
   "source": [
    "### Let’s write a program that will count the number of integers and floats in this nested list."
   ]
  },
  {
   "cell_type": "markdown",
   "metadata": {},
   "source": [
    " [[3,4.0,2,8.4,6],[0,2,0.2,4,6],[9,3.5,0.32,5,4]]"
   ]
  },
  {
   "cell_type": "code",
   "execution_count": 9,
   "metadata": {},
   "outputs": [
    {
     "name": "stdout",
     "output_type": "stream",
     "text": [
      "Number of integers is nested list  10\n",
      "Number of floats in nested list 5\n"
     ]
    }
   ],
   "source": [
    "nested_list =  [[3,4.0,2,8.4,6],[0,2,0.2,4,6],[9,3.5,0.32,5,4]]\n",
    "int_count = 0\n",
    "float_count = 0\n",
    "for l in nested_list:\n",
    "    for item in l:\n",
    "        if isinstance(item,int):\n",
    "            int_count +=1\n",
    "        elif isinstance(item,float):\n",
    "            float_count +=1\n",
    "            \n",
    "print(\"Number of integers is nested list \",int_count)\n",
    "print(\"Number of floats in nested list\",float_count)"
   ]
  },
  {
   "cell_type": "code",
   "execution_count": 8,
   "metadata": {},
   "outputs": [
    {
     "name": "stdout",
     "output_type": "stream",
     "text": [
      "10 5\n"
     ]
    }
   ],
   "source": [
    "nested_list =  [[3,4.0,2,8.4,6],[0,2,0.2,4,6],[9,3.5,0.32,5,4]]\n",
    "int1 = 0\n",
    "float1 = 0\n",
    "for i in nested_list: # 0 \n",
    "  for j in i: # 0 1 2 3 4 5 6 7 8 9 \n",
    "     if isinstance(j,int):\n",
    "        int1+=1\n",
    "     elif isinstance(j,float):\n",
    "       float1+=1\n",
    "     else:\n",
    "       break\n",
    "print(int1,float1)"
   ]
  },
  {
   "cell_type": "code",
   "execution_count": 10,
   "metadata": {},
   "outputs": [
    {
     "name": "stdout",
     "output_type": "stream",
     "text": [
      "hammerhead\n",
      "great white\n",
      "dogfish\n",
      "0\n",
      "1\n",
      "2\n",
      "9.9\n",
      "8.8\n",
      "7.7\n"
     ]
    }
   ],
   "source": [
    "list_of_lists = [['hammerhead', 'great white', 'dogfish'],[0, 1, 2],[9.9, 8.8, 7.7]]\n",
    "\n",
    "for lists in list_of_lists:\n",
    "    for item in lists:\n",
    "        print(item)"
   ]
  },
  {
   "cell_type": "code",
   "execution_count": 3,
   "metadata": {},
   "outputs": [
    {
     "name": "stdout",
     "output_type": "stream",
     "text": [
      "Write your PasswordAli123#\n",
      "At least 1 character from [$#@]\n"
     ]
    }
   ],
   "source": [
    "user = input(\"Write your Password\") \n",
    "i = True\n",
    "while i:\n",
    "  if len(user) < 6:\n",
    "    print(\"The Password should be Minimum length 6 characters.\")\n",
    "    break\n",
    "  elif len(user) > 16:\n",
    "    print(\"Maximum length 16 characters.\")\n",
    "    break\n",
    "  elif user!= \"$\" or user !=\"#\" or user!=\"@\":\n",
    "    print(\"At least 1 character from [$#@]\")\n",
    "    break\n",
    "  elif user != \"1\" or user!=\"2\"  or user!=\"3\" or user!=\"4\" or user!=\"5\" or user!=\"6\" or user!=\"7\" or user!=\"8\" or user!=\"9\":\n",
    "    print(\"At least 1 number between [0-9].\") "
   ]
  },
  {
   "cell_type": "markdown",
   "metadata": {},
   "source": [
    "## Write a program to execute below output "
   ]
  },
  {
   "cell_type": "markdown",
   "metadata": {},
   "source": [
    "x<br>\n",
    "x<br>\n",
    "x<br>\n",
    "y<br>\n",
    "y<br>\n",
    "y<br>\n",
    "y<br>"
   ]
  },
  {
   "cell_type": "code",
   "execution_count": 5,
   "metadata": {},
   "outputs": [
    {
     "name": "stdout",
     "output_type": "stream",
     "text": [
      "x\n",
      "x\n",
      "x\n",
      "x\n",
      "y\n",
      "y\n",
      "y\n",
      "y\n"
     ]
    }
   ],
   "source": [
    "for i in range(4):\n",
    "    print(\"x\")\n",
    "for j in range(4):\n",
    "    print(\"y\")"
   ]
  },
  {
   "cell_type": "markdown",
   "metadata": {},
   "source": [
    "## When we execute the above program, it will produce the following result"
   ]
  },
  {
   "cell_type": "markdown",
   "metadata": {},
   "source": [
    "letter X <br>\n",
    "letter Y<br>\n",
    "letter Y<br>\n",
    "letter Y<br>\n",
    "letter Y<br>\n",
    "letter X<br>\n",
    "letter Y<br>\n",
    "letter Y<br>\n",
    "letter Y<br>\n",
    "letter Y<br>\n",
    "letter X<br>\n",
    "letter Y<br>\n",
    "letter Y<br>\n",
    "letter Y<br>\n",
    "letter Y<br>"
   ]
  },
  {
   "cell_type": "code",
   "execution_count": 7,
   "metadata": {},
   "outputs": [
    {
     "name": "stdout",
     "output_type": "stream",
     "text": [
      "letter X\n",
      "letter Y\n",
      "letter Y\n",
      "letter Y\n",
      "letter Y\n",
      "letter X\n",
      "letter Y\n",
      "letter Y\n",
      "letter Y\n",
      "letter Y\n",
      "letter X\n",
      "letter Y\n",
      "letter Y\n",
      "letter Y\n",
      "letter Y\n"
     ]
    }
   ],
   "source": [
    "for i in range(3):\n",
    "    print(\"letter X\")\n",
    "    for j in range(4):\n",
    "        print(\"letter Y\")"
   ]
  },
  {
   "cell_type": "markdown",
   "metadata": {},
   "source": [
    "## When we execute the above program, it will produce the following result"
   ]
  },
  {
   "cell_type": "markdown",
   "metadata": {},
   "source": [
    "(0, 0) <br>\n",
    "(0, 1)<br>\n",
    "(0, 2)<br>\n",
    "(0, 3)<br>\n",
    "(1, 0)<br>\n",
    "(1, 1)<br>\n",
    "(1, 2)<br>\n",
    "(1, 3)<br>\n",
    "(2, 0)<br>\n",
    "(2, 1)<br>\n",
    "(2, 2)<br>\n",
    "(2, 3)"
   ]
  },
  {
   "cell_type": "code",
   "execution_count": 8,
   "metadata": {},
   "outputs": [
    {
     "name": "stdout",
     "output_type": "stream",
     "text": [
      "0 0\n",
      "0 1\n",
      "0 2\n",
      "0 3\n",
      "1 0\n",
      "1 1\n",
      "1 2\n",
      "1 3\n",
      "2 0\n",
      "2 1\n",
      "2 2\n",
      "2 3\n"
     ]
    }
   ],
   "source": [
    "for i in range(3):\n",
    "    for j in range(4):\n",
    "        print(i,j)"
   ]
  },
  {
   "cell_type": "markdown",
   "metadata": {},
   "source": [
    "## Display Floyd’s triangle using Python nested for loop"
   ]
  },
  {
   "cell_type": "code",
   "execution_count": 10,
   "metadata": {},
   "outputs": [
    {
     "name": "stdout",
     "output_type": "stream",
     "text": [
      "*\n",
      "**\n",
      "***\n",
      "****\n",
      "*****\n"
     ]
    }
   ],
   "source": [
    "for i in range(5):\n",
    "    for j in range(i+1):\n",
    "        print(end=\"*\")\n",
    "    print()"
   ]
  },
  {
   "cell_type": "markdown",
   "metadata": {},
   "source": [
    "## Display Multiplication Table "
   ]
  },
  {
   "cell_type": "code",
   "execution_count": 13,
   "metadata": {},
   "outputs": [
    {
     "name": "stdout",
     "output_type": "stream",
     "text": [
      " \n",
      "1\n",
      "\t\n",
      "2\n",
      "\t\n",
      "3\n",
      "\t\n",
      "4\n",
      "\t\n",
      "5\n",
      "\t\n",
      "6\n",
      "\t\n",
      "7\n",
      "\t\n",
      "8\n",
      "\t\n",
      "9\n",
      "\t\n",
      "10\n",
      "\t\n",
      " \n",
      "2\n",
      "\t\n",
      "4\n",
      "\t\n",
      "6\n",
      "\t\n",
      "8\n",
      "\t\n",
      "10\n",
      "\t\n",
      "12\n",
      "\t\n",
      "14\n",
      "\t\n",
      "16\n",
      "\t\n",
      "18\n",
      "\t\n",
      "20\n",
      "\t\n",
      " \n",
      "3\n",
      "\t\n",
      "6\n",
      "\t\n",
      "9\n",
      "\t\n",
      "12\n",
      "\t\n",
      "15\n",
      "\t\n",
      "18\n",
      "\t\n",
      "21\n",
      "\t\n",
      "24\n",
      "\t\n",
      "27\n",
      "\t\n",
      "30\n",
      "\t\n",
      " \n",
      "4\n",
      "\t\n",
      "8\n",
      "\t\n",
      "12\n",
      "\t\n",
      "16\n",
      "\t\n",
      "20\n",
      "\t\n",
      "24\n",
      "\t\n",
      "28\n",
      "\t\n",
      "32\n",
      "\t\n",
      "36\n",
      "\t\n",
      "40\n",
      "\t\n",
      " \n",
      "5\n",
      "\t\n",
      "10\n",
      "\t\n",
      "15\n",
      "\t\n",
      "20\n",
      "\t\n",
      "25\n",
      "\t\n",
      "30\n",
      "\t\n",
      "35\n",
      "\t\n",
      "40\n",
      "\t\n",
      "45\n",
      "\t\n",
      "50\n",
      "\t\n",
      " \n",
      "6\n",
      "\t\n",
      "12\n",
      "\t\n",
      "18\n",
      "\t\n",
      "24\n",
      "\t\n",
      "30\n",
      "\t\n",
      "36\n",
      "\t\n",
      "42\n",
      "\t\n",
      "48\n",
      "\t\n",
      "54\n",
      "\t\n",
      "60\n",
      "\t\n",
      " \n",
      "7\n",
      "\t\n",
      "14\n",
      "\t\n",
      "21\n",
      "\t\n",
      "28\n",
      "\t\n",
      "35\n",
      "\t\n",
      "42\n",
      "\t\n",
      "49\n",
      "\t\n",
      "56\n",
      "\t\n",
      "63\n",
      "\t\n",
      "70\n",
      "\t\n",
      " \n",
      "8\n",
      "\t\n",
      "16\n",
      "\t\n",
      "24\n",
      "\t\n",
      "32\n",
      "\t\n",
      "40\n",
      "\t\n",
      "48\n",
      "\t\n",
      "56\n",
      "\t\n",
      "64\n",
      "\t\n",
      "72\n",
      "\t\n",
      "80\n",
      "\t\n",
      " \n",
      "9\n",
      "\t\n",
      "18\n",
      "\t\n",
      "27\n",
      "\t\n",
      "36\n",
      "\t\n",
      "45\n",
      "\t\n",
      "54\n",
      "\t\n",
      "63\n",
      "\t\n",
      "72\n",
      "\t\n",
      "81\n",
      "\t\n",
      "90\n",
      "\t\n",
      " \n",
      "10\n",
      "\t\n",
      "20\n",
      "\t\n",
      "30\n",
      "\t\n",
      "40\n",
      "\t\n",
      "50\n",
      "\t\n",
      "60\n",
      "\t\n",
      "70\n",
      "\t\n",
      "80\n",
      "\t\n",
      "90\n",
      "\t\n",
      "100\n",
      "\t\n"
     ]
    }
   ],
   "source": [
    "for i in range(1,11):#outer for loop\n",
    "    print(\" \")\n",
    "    for j in range(1,11):#outer for loop\n",
    "        print(i*j),\n",
    "        print(\"\\t\"),"
   ]
  },
  {
   "cell_type": "markdown",
   "metadata": {},
   "source": [
    "## Find the prime number using nested for loop"
   ]
  },
  {
   "cell_type": "code",
   "execution_count": 15,
   "metadata": {},
   "outputs": [
    {
     "name": "stdout",
     "output_type": "stream",
     "text": [
      "2 is a prime number\n",
      "3 is a prime number\n",
      "4 is not prime number\n",
      "5 is a prime number\n",
      "6 is not prime number\n",
      "7 is a prime number\n",
      "8 is not prime number\n",
      "9 is not prime number\n",
      "10 is not prime number\n",
      "11 is a prime number\n",
      "12 is not prime number\n",
      "13 is a prime number\n",
      "14 is not prime number\n",
      "15 is not prime number\n",
      "16 is not prime number\n",
      "17 is a prime number\n",
      "18 is not prime number\n",
      "19 is a prime number\n"
     ]
    }
   ],
   "source": [
    "for var1 in range(2,20):\n",
    "    bol=True\n",
    "    for var2 in range(2,var1-1):\n",
    "        if(var1%var2==0):\n",
    "            print(var1, \"is not prime number\")\n",
    "            bol=False\n",
    "            break\n",
    "    if bol:\n",
    "        print(var1, \"is a prime number\")\n",
    "        "
   ]
  },
  {
   "cell_type": "markdown",
   "metadata": {},
   "source": [
    "## When we execute the above program, it will produce the following result"
   ]
  },
  {
   "cell_type": "markdown",
   "metadata": {},
   "source": [
    "John has 34 <br> \n",
    "John has 54 <br>\n",
    "John has 23 <br>\n",
    "John has 43 <br>\n",
    "Smith has 34 <br>\n",
    "Smith has 54 <br>\n",
    "Smith has 23 <br>\n",
    "Smith has 43 <br>\n",
    "Dan has 34 <br>\n",
    "Dan has 54 <br> \n",
    "Dan has 23 <br>\n",
    "Dan has 43 <br>\n",
    "Khan has 34 <br> \n",
    "Khan has 54 <br>\n",
    "Khan has 23 <br> \n",
    "Khan has 43 <br>"
   ]
  },
  {
   "cell_type": "code",
   "execution_count": 17,
   "metadata": {},
   "outputs": [
    {
     "name": "stdout",
     "output_type": "stream",
     "text": [
      "John  has  34\n",
      "John  has  54\n",
      "John  has  23\n",
      "John  has  43\n",
      "Smith  has  34\n",
      "Smith  has  54\n",
      "Smith  has  23\n",
      "Smith  has  43\n",
      "Dan  has  34\n",
      "Dan  has  54\n",
      "Dan  has  23\n",
      "Dan  has  43\n",
      "Khan  has  34\n",
      "Khan  has  54\n",
      "Khan  has  23\n",
      "Khan  has  43\n"
     ]
    }
   ],
   "source": [
    "names=['John','Smith','Dan','Khan']\n",
    "ages=[34,54,23,43]\n",
    "for i in names:\n",
    "    for j in ages:\n",
    "        print(i,\" has \",j)"
   ]
  },
  {
   "cell_type": "markdown",
   "metadata": {},
   "source": [
    "### When we execute the above program, it will produce the following result"
   ]
  },
  {
   "cell_type": "markdown",
   "metadata": {},
   "source": [
    "Jhon has 1carBenz <br>\n",
    "Jhon has 1carToyota<br>\n",
    "Jhon has 1carBMW<br>\n",
    "Jhon has 4carBenz<br><br>\n",
    "Jhon has 4carToyota<br>\n",
    "Jhon has 4carBMW<br>\n",
    "Jhon has 6carBenz<br>\n",
    "Jhon has 6carToyota<br>\n",
    "Jhon has 6carBMW<br>\n",
    "Smith has 1carBenz<br>\n",
    "Smith has 1carToyota<br>\n",
    "Smith has 1carBMW<br>\n",
    "Smith has 4carBenz<br>\n",
    "Smith has 4carToyota<br>\n",
    "Smith has 4carBMW<br>\n",
    "Smith has 6carBenz<br>\n",
    "Smith has 6carToyota<br>\n",
    "Smith has 6carBMW<br>\n",
    "Dan has 1carBenz<br>\n",
    "Dan has 1carToyota<br>\n",
    "Dan has 1carBMW<br>\n",
    "Dan has 4carBenz<br>\n",
    "Dan has 4carToyota<br>\n",
    "Dan has 4carBMW<br>\n",
    "Dan has 6carBenz<br>\n",
    "Dan has 6carToyota<br>\n",
    "Dan has 6carBMW"
   ]
  },
  {
   "cell_type": "code",
   "execution_count": 19,
   "metadata": {},
   "outputs": [
    {
     "name": "stdout",
     "output_type": "stream",
     "text": [
      "Jhon has 1carBenz\n",
      "Jhon has 1carToyota\n",
      "Jhon has 1carBMW\n",
      "Jhon has 4carBenz\n",
      "Jhon has 4carToyota\n",
      "Jhon has 4carBMW\n",
      "Jhon has 6carBenz\n",
      "Jhon has 6carToyota\n",
      "Jhon has 6carBMW\n",
      "Smith has 1carBenz\n",
      "Smith has 1carToyota\n",
      "Smith has 1carBMW\n",
      "Smith has 4carBenz\n",
      "Smith has 4carToyota\n",
      "Smith has 4carBMW\n",
      "Smith has 6carBenz\n",
      "Smith has 6carToyota\n",
      "Smith has 6carBMW\n",
      "Dan has 1carBenz\n",
      "Dan has 1carToyota\n",
      "Dan has 1carBMW\n",
      "Dan has 4carBenz\n",
      "Dan has 4carToyota\n",
      "Dan has 4carBMW\n",
      "Dan has 6carBenz\n",
      "Dan has 6carToyota\n",
      "Dan has 6carBMW\n"
     ]
    }
   ],
   "source": [
    "names=['Jhon','Smith','Dan']#name is string\n",
    "#name list in Python\n",
    "numbers=[1,4,6] #numbere list in Python\n",
    "cars=['Benz','Toyota','BMW'] #car list in python\n",
    "for name in names: \n",
    "    for number in numbers:\n",
    "        for car in cars:\n",
    "          print (name+\" has \"+str(number)+\"car\"+car)"
   ]
  },
  {
   "cell_type": "markdown",
   "metadata": {},
   "source": [
    "# Print Traiangle in Inverted Order"
   ]
  },
  {
   "cell_type": "code",
   "execution_count": 5,
   "metadata": {},
   "outputs": [
    {
     "name": "stdout",
     "output_type": "stream",
     "text": [
      "1 1 1 1 1 \n",
      "2 2 2 2 \n",
      "3 3 3 \n",
      "4 4 \n",
      "5 \n"
     ]
    }
   ],
   "source": [
    "rows = 5\n",
    "b = 0\n",
    "for i in range(rows,0,-1):\n",
    "    b +=1\n",
    "    for j in range(i):\n",
    "        print(b,end=\" \")\n",
    "    print()"
   ]
  },
  {
   "cell_type": "markdown",
   "metadata": {},
   "source": [
    "### Inverted Pyramid pattern with the same digit"
   ]
  },
  {
   "cell_type": "code",
   "execution_count": 8,
   "metadata": {},
   "outputs": [
    {
     "name": "stdout",
     "output_type": "stream",
     "text": [
      "5 5 5 5 5 \n",
      "5 5 5 5 \n",
      "5 5 5 \n",
      "5 5 \n",
      "5 \n"
     ]
    }
   ],
   "source": [
    "row = 5\n",
    "b = 5\n",
    "for i in range(rows,0,-1):\n",
    "    for j in range(i):\n",
    "        print(b,end=\" \")\n",
    "    print()"
   ]
  },
  {
   "cell_type": "markdown",
   "metadata": {},
   "source": [
    "## Another inverted half pyramid pattern with number"
   ]
  },
  {
   "cell_type": "code",
   "execution_count": 13,
   "metadata": {},
   "outputs": [
    {
     "name": "stdout",
     "output_type": "stream",
     "text": [
      "0 1 2 3 4 5 \n",
      "0 1 2 3 4 \n",
      "0 1 2 3 \n",
      "0 1 2 \n",
      "0 1 \n",
      "0 \n"
     ]
    }
   ],
   "source": [
    "rows = 6\n",
    "b = 0\n",
    "for i in range(rows,0,-1):\n",
    "    for j in range(i):\n",
    "        print(b,end=\" \")\n",
    "        b +=1\n",
    "    b = 0\n",
    "    print()"
   ]
  },
  {
   "cell_type": "code",
   "execution_count": null,
   "metadata": {},
   "outputs": [],
   "source": []
  }
 ],
 "metadata": {
  "kernelspec": {
   "display_name": "Python 3",
   "language": "python",
   "name": "python3"
  },
  "language_info": {
   "codemirror_mode": {
    "name": "ipython",
    "version": 3
   },
   "file_extension": ".py",
   "mimetype": "text/x-python",
   "name": "python",
   "nbconvert_exporter": "python",
   "pygments_lexer": "ipython3",
   "version": "3.7.3"
  }
 },
 "nbformat": 4,
 "nbformat_minor": 2
}
