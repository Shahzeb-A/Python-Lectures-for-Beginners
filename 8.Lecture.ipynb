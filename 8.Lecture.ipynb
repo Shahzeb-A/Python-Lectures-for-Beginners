{
 "cells": [
  {
   "cell_type": "markdown",
   "metadata": {},
   "source": [
    "# If ... Else"
   ]
  },
  {
   "cell_type": "markdown",
   "metadata": {},
   "source": [
    "* Equals: a == b\n",
    "* Not Equals: a != b\n",
    "* Less than: a < b\n",
    "* Less than or equal to: a <= b\n",
    "* Greater than: a > b\n",
    "* Greater than or equal to: a >= b"
   ]
  },
  {
   "cell_type": "code",
   "execution_count": 1,
   "metadata": {},
   "outputs": [
    {
     "name": "stdout",
     "output_type": "stream",
     "text": [
      "b is greater than a\n"
     ]
    }
   ],
   "source": [
    "a = 33\n",
    "b = 200\n",
    "if b > a:\n",
    "  print(\"b is greater than a\")"
   ]
  },
  {
   "cell_type": "markdown",
   "metadata": {},
   "source": [
    "# Elif"
   ]
  },
  {
   "cell_type": "markdown",
   "metadata": {},
   "source": [
    "The elif keyword is pythons way of saying \"if the previous conditions were not true, then try this condition\"."
   ]
  },
  {
   "cell_type": "code",
   "execution_count": 2,
   "metadata": {},
   "outputs": [
    {
     "name": "stdout",
     "output_type": "stream",
     "text": [
      "a and b are equal\n"
     ]
    }
   ],
   "source": [
    "a = 33\n",
    "b = 33\n",
    "if b > a:\n",
    "  print(\"b is greater than a\")\n",
    "elif a == b:\n",
    "  print(\"a and b are equal\")"
   ]
  },
  {
   "cell_type": "markdown",
   "metadata": {},
   "source": [
    "# Else\n",
    "The else keyword catches anything which isn't caught by the preceding conditions."
   ]
  },
  {
   "cell_type": "code",
   "execution_count": 3,
   "metadata": {},
   "outputs": [
    {
     "name": "stdout",
     "output_type": "stream",
     "text": [
      "a is greater than b\n"
     ]
    }
   ],
   "source": [
    "a = 200\n",
    "b = 33\n",
    "if b > a:\n",
    "  print(\"b is greater than a\")\n",
    "elif a == b:\n",
    "  print(\"a and b are equal\")\n",
    "else:\n",
    "  print(\"a is greater than b\")"
   ]
  },
  {
   "cell_type": "markdown",
   "metadata": {},
   "source": [
    "# Short Hand If"
   ]
  },
  {
   "cell_type": "code",
   "execution_count": 4,
   "metadata": {},
   "outputs": [
    {
     "name": "stdout",
     "output_type": "stream",
     "text": [
      "a is greater than b\n"
     ]
    }
   ],
   "source": [
    "if a > b: print(\"a is greater than b\")"
   ]
  },
  {
   "cell_type": "markdown",
   "metadata": {},
   "source": [
    "# Short Hand If ... Else"
   ]
  },
  {
   "cell_type": "code",
   "execution_count": 5,
   "metadata": {},
   "outputs": [
    {
     "name": "stdout",
     "output_type": "stream",
     "text": [
      "B\n"
     ]
    }
   ],
   "source": [
    "a = 2\n",
    "b = 330\n",
    "print(\"A\") if a > b else print(\"B\")"
   ]
  },
  {
   "cell_type": "code",
   "execution_count": 3,
   "metadata": {},
   "outputs": [
    {
     "name": "stdout",
     "output_type": "stream",
     "text": [
      "C is greater\n"
     ]
    }
   ],
   "source": [
    "a = 200\n",
    "b = 33\n",
    "c = 500\n",
    "if a > b and a > c:\n",
    "  print(\"A Is greater\")\n",
    "elif b>a and b>c:\n",
    "    print(\"B is greater\")\n",
    "else:\n",
    "    print(\"C is greater\")"
   ]
  },
  {
   "cell_type": "code",
   "execution_count": 7,
   "metadata": {},
   "outputs": [
    {
     "name": "stdout",
     "output_type": "stream",
     "text": [
      "At least one of the conditions is True\n"
     ]
    }
   ],
   "source": [
    "a = 200\n",
    "b = 33\n",
    "c = 500\n",
    "if a > b or a > c:\n",
    "  print(\"At least one of the conditions is True\")"
   ]
  },
  {
   "cell_type": "code",
   "execution_count": 26,
   "metadata": {},
   "outputs": [
    {
     "name": "stdout",
     "output_type": "stream",
     "text": [
      "even number\n"
     ]
    }
   ],
   "source": [
    "x = 10\n",
    "if x % 2 == 0:\n",
    "  print('even number')\n",
    "elif x % 2 == 1:\n",
    "  print('odd number')\n",
    "else:\n",
    "  print('enter a number')"
   ]
  },
  {
   "cell_type": "code",
   "execution_count": 10,
   "metadata": {},
   "outputs": [
    {
     "name": "stdout",
     "output_type": "stream",
     "text": [
      "Enter the value for A54\n",
      "Enter the value for B54\n",
      "Enter the value for C32\n",
      "C is greater \n"
     ]
    }
   ],
   "source": [
    "a = int(input(\"Enter the value for A \"))\n",
    "b = int(input(\"Enter the value for B \"))\n",
    "c = int(input(\"Enter the value for C \"))\n",
    "\n",
    "if a>b and a>c:\n",
    "    print(\"A is greater  \")\n",
    "elif b>c and b>a :\n",
    "    print(\"B is greater \")\n",
    "else:\n",
    "    print(\"C is greater \")"
   ]
  },
  {
   "cell_type": "markdown",
   "metadata": {},
   "source": [
    "#### A company decided to give bonus of 5% to employee if his/her year of service is more than 5 years. Ask user for their salary and year of service and print the net bonus amount."
   ]
  },
  {
   "cell_type": "code",
   "execution_count": 8,
   "metadata": {},
   "outputs": [
    {
     "name": "stdout",
     "output_type": "stream",
     "text": [
      "Enter the salary6000\n",
      "Enter the years of service7\n",
      "Bonus is  3000.0\n"
     ]
    }
   ],
   "source": [
    "salary = int(input(\"Enter the salary\"))\n",
    "yos  = int(input(\"Enter the years of service\"))\n",
    "\n",
    "if yos>5:\n",
    "    print(\"Bonus is \", 0.5*salary)\n",
    "else:\n",
    "    print(\"No Bonus\")"
   ]
  },
  {
   "cell_type": "markdown",
   "metadata": {},
   "source": [
    "A school has following rules for grading system:\n",
    "* a. Below 25 - F\n",
    "* b. 25 to 45 - E\n",
    "* c. 45 to 50 - D\n",
    "* d. 50 to 60 - C\n",
    "* e. 60 to 80 - B\n",
    "* f. Above 80 - A\n",
    "Ask user to enter marks and print the corresponding grade."
   ]
  },
  {
   "cell_type": "code",
   "execution_count": 13,
   "metadata": {},
   "outputs": [
    {
     "name": "stdout",
     "output_type": "stream",
     "text": [
      "Enter Marks56\n",
      "Your Grade is C\n"
     ]
    }
   ],
   "source": [
    "marks = int(input(\"Enter Marks\"))\n",
    "\n",
    "if marks < 25:\n",
    "    print(\"Your Grade is F\")\n",
    "elif marks >=25 and marks<45:\n",
    "    print(\"Your Grade is E\")\n",
    "elif marks >=45 and marks <50:\n",
    "    print(\"Your Grade is D\")\n",
    "elif marks >=50 and marks <60:\n",
    "    print(\"Your Grade is C\")\n",
    "elif marks >=60 and marks <80:\n",
    "    print(\"Your Grade is B\")\n",
    "else:\n",
    "    print(\"Your Grade is A\")"
   ]
  },
  {
   "cell_type": "code",
   "execution_count": 1,
   "metadata": {},
   "outputs": [
    {
     "name": "stdout",
     "output_type": "stream",
     "text": [
      "Write your Number  12\n",
      "Write your Number  13\n",
      " wte your Number  4\n",
      "youre number is greater\n"
     ]
    }
   ],
   "source": [
    "User1 = input(\"Write your name\")\n",
    "User2 = input(\"Write your name\")\n",
    "User3 = input(\"rite your Number\")\n",
    "\n",
    "user1_input = int(input(User1 \"Write your Number\"))\n",
    "user2_input = int(input(User2 \"Write your Number\"))\n",
    "user3_input = int(input(User3 \"Write your Number\"))\n",
    "\n",
    "if user1_input > user2_input  and user1_input > user3_input:\n",
    "    print(\"Ueser 1 greater\")\n"
   ]
  },
  {
   "cell_type": "code",
   "execution_count": null,
   "metadata": {},
   "outputs": [],
   "source": [
    "User1 = input(\"Write your name\")\n",
    "User2 = input(\"Write your name\")\n",
    "User3 = input(\"rite your name)\n",
    "\n",
    "user1_input = int(input(\"Write your Number\"))\n",
    "user2_input = int(input(\"Write your Number\"))\n",
    "user3_input = int(input(\"Write your Number\"))\n",
    "\n",
    "if User1_input > User2_input  and User1_input > User3_input:\n",
    "    print(\"User 1 greater\",User1)\n",
    "elif User3_input > User2_input  and User2_input > User3_input:\n",
    "    print(\"User 2 greater\",User2)\n",
    "else:\n",
    "    print(\"Your 3 User is greater\",User3)"
   ]
  },
  {
   "cell_type": "markdown",
   "metadata": {},
   "source": [
    "#### Take input of age of 3 people by user and determine oldest and youngest among them.\n"
   ]
  },
  {
   "cell_type": "code",
   "execution_count": 14,
   "metadata": {},
   "outputs": [
    {
     "name": "stdout",
     "output_type": "stream",
     "text": [
      "Enter first age\n",
      "19\n",
      "Enter second age\n",
      "23\n",
      "third age\n",
      "29\n",
      "Oldest is 29\n"
     ]
    }
   ],
   "source": [
    "print(\"Enter first age\")\n",
    "first = input()\n",
    "print(\"Enter second age\")\n",
    "second = input()\n",
    "print(\"third age\")\n",
    "third = input()\n",
    "\n",
    "if first >= second and first >= third:\n",
    "  print(\"Oldest is\",first)\n",
    "elif second >= first and second >= third:\n",
    "  print(\"Oldest is\",second)\n",
    "elif third >= first and third >= second:\n",
    "  print(\"Oldest is\",third)\n",
    "else:\n",
    "  print(\"All are equal\")"
   ]
  },
  {
   "cell_type": "markdown",
   "metadata": {},
   "source": [
    "**A student will not be allowed to sit in exam if his/her attendence is less than 75%.\n",
    "Take following input from user\n",
    "Number of classes held\n",
    "Number of classes attended.\n",
    "And print\n",
    "percentage of class attended\n",
    "Is student is allowed to sit in exam or not.**"
   ]
  },
  {
   "cell_type": "code",
   "execution_count": 17,
   "metadata": {},
   "outputs": [
    {
     "name": "stdout",
     "output_type": "stream",
     "text": [
      "Number of classes held\n",
      "45\n",
      "Number of classes attended\n",
      "23\n",
      "Attendence is 51.11111111111111\n",
      "Sorry, you are not allowed. Attend more classes from next time.\n"
     ]
    }
   ],
   "source": [
    "print(\"Number of classes held\")\n",
    "noh = int(input())\n",
    "print(\"Number of classes attended\")\n",
    "noa = int(input())\n",
    "atten = (noa/float(noh))*100\n",
    "print(\"Attendence is\",atten)\n",
    "if atten >= 75:\n",
    "  print(\"You are allowed to sit in exam\")\n",
    "else:\n",
    "  print(\"Sorry, you are not allowed. Attend more classes from next time.\")"
   ]
  },
  {
   "cell_type": "code",
   "execution_count": 7,
   "metadata": {},
   "outputs": [
    {
     "name": "stdout",
     "output_type": "stream",
     "text": [
      "Write the number of classes held50\n",
      "Write the number of the classes attended12\n",
      "your attendandence marks is 24.0\n",
      "you can't\n"
     ]
    }
   ],
   "source": [
    "User1_input = int(input(\"Write the number of classes held\"))\n",
    "User2_input = int(input(\"Write the number of the classes attended\"))\n",
    "formula = (User2_input/float(User1_input))*100\n",
    "print(\"your attendandence marks is\", formula )\n",
    "if formula >= 75:\n",
    "    print(\"you can sit\")\n",
    "else:\n",
    "    print(\"you can't\")"
   ]
  },
  {
   "cell_type": "markdown",
   "metadata": {},
   "source": [
    "**Take values of length and breadth of a rectangle from user and check if it is square or not.**"
   ]
  },
  {
   "cell_type": "code",
   "execution_count": 22,
   "metadata": {},
   "outputs": [
    {
     "name": "stdout",
     "output_type": "stream",
     "text": [
      "Enter Length \n",
      "12\n",
      "Enter Breadth\n",
      "12\n",
      "Yes it is a square\n"
     ]
    }
   ],
   "source": [
    "print(\"Enter Length \")\n",
    "length = int(input())\n",
    "print(\"Enter Breadth\")\n",
    "breadth = int(input())\n",
    "\n",
    "if length == breadth:\n",
    "    print(\"Yes it is a square\")\n",
    "else:\n",
    "    print(\"No a square\")"
   ]
  },
  {
   "cell_type": "code",
   "execution_count": 10,
   "metadata": {},
   "outputs": [
    {
     "name": "stdout",
     "output_type": "stream",
     "text": [
      "Write the number of Length12\n",
      "Write the number of the Breadth14\n",
      "not\n"
     ]
    }
   ],
   "source": [
    "User1_input = int(input(\"Write the number of Length\"))\n",
    "User2_input = int(input(\"Write the number of the Breadth\"))\n",
    "if User1_input == User2_input:\n",
    "     print(\"it's square\")\n",
    "else:\n",
    "    print(\"not\")"
   ]
  },
  {
   "cell_type": "code",
   "execution_count": 23,
   "metadata": {},
   "outputs": [
    {
     "name": "stdout",
     "output_type": "stream",
     "text": [
      "Gender? male\n",
      "Your cat is male\n",
      "Age of your cat? 6\n",
      "Your cat is adult.\n"
     ]
    }
   ],
   "source": [
    "gender = input(\"Gender? \")\n",
    "if gender == \"male\" or gender == \"Male\":\n",
    "    print(\"Your cat is male\")\n",
    "else:\n",
    "    print(\"Your cat is female\")\n",
    "\n",
    "age = int(input(\"Age of your cat? \"))\n",
    "if age < 5:\n",
    "    print(\"Your cat is young.\")\n",
    "else:\n",
    "    print(\"Your cat is adult.\")"
   ]
  },
  {
   "cell_type": "code",
   "execution_count": 15,
   "metadata": {},
   "outputs": [
    {
     "name": "stdout",
     "output_type": "stream",
     "text": [
      "Which Python data type is an ordered sequence? tuple\n",
      "You entered: tuple\n",
      "You have cleared the test.\n"
     ]
    }
   ],
   "source": [
    "\n",
    "response = input(\"Which Python data type is an ordered sequence? \").lower()\n",
    "print(\"You entered:\", response)\n",
    "    \n",
    "if response == \"list\" or  response == \"tuple\":\n",
    "    print(\"You have cleared the test.\")\n",
    "else:\n",
    "    print(\"Your input is wrong. Please try again.\")"
   ]
  },
  {
   "cell_type": "code",
   "execution_count": 16,
   "metadata": {},
   "outputs": [
    {
     "name": "stdout",
     "output_type": "stream",
     "text": [
      "How many days are there in a leap year? 366\n",
      "You entered: 366\n",
      "You have cleared the first level.\n",
      "What month has an extra day in leap year?? february\n",
      "You have cleared the test.\n"
     ]
    }
   ],
   "source": [
    "response = int(input(\"How many days are there in a leap year? \"))\n",
    "print(\"You entered:\", response)\n",
    "    \n",
    "if response == 366:\n",
    "    print(\"You have cleared the first level.\")\n",
    "    response = input(\"What month has an extra day in leap year?? \").lower()\n",
    "    if response == \"february\":\n",
    "        print(\"You have cleared the test.\")\n",
    "            \n",
    "    else:\n",
    "        print(\"You have failed the test.\")\n",
    "else :\n",
    "    print(\"Your input is wrong, please try again.\")"
   ]
  },
  {
   "cell_type": "code",
   "execution_count": 18,
   "metadata": {},
   "outputs": [
    {
     "name": "stdout",
     "output_type": "stream",
     "text": [
      "How many days are there in a leap year? 366\n",
      "You entered: 366\n",
      "You have cleared the first level.\n",
      "What month has an extra day in leap year?? february\n",
      "You have cleared the test.\n"
     ]
    }
   ],
   "source": [
    "response = int(input(\"How many days are there in a leap year? \"))\n",
    "print(\"You entered:\", response)\n",
    "    \n",
    "if response == 366 :\n",
    "    print(\"You have cleared the first level.\")\n",
    "    response = input(\"What month has an extra day in leap year?? \").lower()\n",
    "    if response == \"february\" :\n",
    "        print(\"You have cleared the test.\")\n",
    "            \n",
    "    else:\n",
    "        print(\"You have failed the test.\")\n",
    "            \n",
    "else:\n",
    "    print(\"Your input is wrong, please try again.\")"
   ]
  },
  {
   "cell_type": "markdown",
   "metadata": {},
   "source": [
    "**Let's say you are given a time and you have to tell what phase of the day it is- (morning, noon, afternoon, evening or night). You will have to check the given time against multiple ranges of time within which each of the 5 phases lies. Therefore, the following conditions:**\n",
    "\n",
    "* Morning: 0600 to 1159\n",
    "* Noon: 1200\n",
    "* Afternoon: 1201 to 1700\n",
    "* Evening: 1701 to 2000\n",
    "* Night: 2000 to 0559"
   ]
  },
  {
   "cell_type": "code",
   "execution_count": 27,
   "metadata": {},
   "outputs": [
    {
     "name": "stdout",
     "output_type": "stream",
     "text": [
      "Please enter the time 1700\n",
      "Afternoon\n"
     ]
    }
   ],
   "source": [
    "time = int(input(\"Please enter the time \"))\n",
    "if (time >= 600) and (time < 1200):\n",
    "    print (\"Morning\");\n",
    "elif (time == 1200):\n",
    "    print (\"Noon\");\n",
    "elif (time > 1200) and (time <= 1700):\n",
    "    print (\"Afternoon\");\n",
    "elif (time > 1700) and (time <= 2000):\n",
    "    print (\"Evening\");\n",
    "elif ((time > 2000) and (time < 2400)) or ((time >= 0) and (time < 600)):\n",
    "    print (\"Night\");\n",
    "else:\n",
    "    print (\"Invalid time!\");"
   ]
  },
  {
   "cell_type": "code",
   "execution_count": 34,
   "metadata": {},
   "outputs": [
    {
     "name": "stdout",
     "output_type": "stream",
     "text": [
      "Write thee Time500\n",
      "Morning\n"
     ]
    }
   ],
   "source": [
    "time = int(input('Write thee Time'))\n",
    "if time >= 0 and time <= 1200:\n",
    "    print(\"Morning\")\n",
    "elif time == 1200:\n",
    "    print(\"Noon\")\n",
    "elif time > 1200 and time <= 1700:\n",
    "    print(\"Afternoon\")\n",
    "elif time > 1700 and time <= 2000:\n",
    "    print(\"Evening\")\n",
    "elif time > 2000 and time < 2400:\n",
    "    print(\"Night\")\n",
    "else:\n",
    "    print(\"Ivalid Time\")"
   ]
  },
  {
   "cell_type": "code",
   "execution_count": 28,
   "metadata": {},
   "outputs": [
    {
     "name": "stdout",
     "output_type": "stream",
     "text": [
      "Enter the Age19\n",
      "Enter the GenderF\n",
      "mother\n"
     ]
    }
   ],
   "source": [
    "age = int(input(\"Enter the Age\"))\n",
    "gender = input(\"Enter the Gender\")\n",
    "if age < 18:\n",
    "    if gender == 'M':\n",
    "        print('son')\n",
    "    else:\n",
    "        print('daughter')\n",
    "elif age >= 18 and age < 65:\n",
    "    if gender == 'M':\n",
    "        print('father')\n",
    "    else:\n",
    "        print('mother')\n",
    "else:\n",
    "    if gender == 'M':\n",
    "        print('grandfather')\n",
    "    else:\n",
    "        print('grandmother')"
   ]
  },
  {
   "cell_type": "code",
   "execution_count": 2,
   "metadata": {},
   "outputs": [
    {
     "name": "stdout",
     "output_type": "stream",
     "text": [
      "Which Python data type is an ordered sequence? tuple\n",
      "You entered  tuple\n",
      "You have cleared the test.\n"
     ]
    }
   ],
   "source": [
    "while True:\n",
    "    response = input(\"Which Python data type is an ordered sequence? \").lower()\n",
    "    print(\"You entered \",response)\n",
    "    \n",
    "    if response == \"list\":\n",
    "        print(\"You cleared the test\")\n",
    "        break\n",
    "    elif response == \"tuple\":\n",
    "        print(\"You have cleared the test.\")\n",
    "        break\n",
    "    else:\n",
    "        print(\"Your input is wrong please try again\")"
   ]
  },
  {
   "cell_type": "code",
   "execution_count": null,
   "metadata": {},
   "outputs": [],
   "source": []
  }
 ],
 "metadata": {
  "kernelspec": {
   "display_name": "Python 3",
   "language": "python",
   "name": "python3"
  },
  "language_info": {
   "codemirror_mode": {
    "name": "ipython",
    "version": 3
   },
   "file_extension": ".py",
   "mimetype": "text/x-python",
   "name": "python",
   "nbconvert_exporter": "python",
   "pygments_lexer": "ipython3",
   "version": "3.7.3"
  }
 },
 "nbformat": 4,
 "nbformat_minor": 2
}
