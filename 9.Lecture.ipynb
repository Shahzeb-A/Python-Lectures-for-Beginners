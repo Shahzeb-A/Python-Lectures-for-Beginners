{
 "cells": [
  {
   "cell_type": "markdown",
   "metadata": {},
   "source": [
    "# IF-ELSE"
   ]
  },
  {
   "cell_type": "code",
   "execution_count": 4,
   "metadata": {},
   "outputs": [
    {
     "name": "stdout",
     "output_type": "stream",
     "text": [
      "How many days in leap year?366\n",
      "You are right\n",
      "Congrats\n"
     ]
    }
   ],
   "source": [
    "days = int(input(\"How many days in leap year?\"))\n",
    "if days ==366:\n",
    "    print(\"You are right\")\n",
    "print(\"Congrats\")"
   ]
  },
  {
   "cell_type": "code",
   "execution_count": 10,
   "metadata": {},
   "outputs": [
    {
     "name": "stdout",
     "output_type": "stream",
     "text": [
      "IS Python Language is Case Sensitive?yes\n",
      "You are right\n"
     ]
    }
   ],
   "source": [
    "answer = input(\"IS Python Language is Case Sensitive?\").lower()\n",
    "\n",
    "if answer == \"yes\" :\n",
    "    print(\"You are right\")\n",
    "else:\n",
    "    print(\"No this is wrong Python is case sensitive language\")"
   ]
  },
  {
   "cell_type": "code",
   "execution_count": 7,
   "metadata": {},
   "outputs": [
    {
     "name": "stdout",
     "output_type": "stream",
     "text": [
      "Enter the numnber2\n"
     ]
    }
   ],
   "source": [
    "user = int(input(\"Enter the numnber\"))\n",
    "if user/2 ==0:\n",
    "    print(\"Even\")"
   ]
  },
  {
   "cell_type": "code",
   "execution_count": 11,
   "metadata": {},
   "outputs": [
    {
     "name": "stdout",
     "output_type": "stream",
     "text": [
      "Enter the number to check it is odd or not4\n",
      "The is not an odd number\n"
     ]
    }
   ],
   "source": [
    "num = int(input(\"Enter the number to check it is odd or not\"))\n",
    "\n",
    "if num%2==0:\n",
    "    print(\"The is not an odd number\")\n",
    "else:\n",
    "    print(\"This is odd number\")"
   ]
  },
  {
   "cell_type": "markdown",
   "metadata": {},
   "source": [
    "# Nested IF-ELSE"
   ]
  },
  {
   "cell_type": "code",
   "execution_count": 1,
   "metadata": {},
   "outputs": [
    {
     "name": "stdout",
     "output_type": "stream",
     "text": [
      "How many days are in leap year?366\n",
      "Your response  366\n",
      "You have cleared this first round\n",
      "What is the month which has extra day february\n",
      "You have cleared the test\n"
     ]
    }
   ],
   "source": [
    "while True:\n",
    "    response = int(input(\"How many days are in leap year?\"))\n",
    "    print(\"Your response \",response)\n",
    "    \n",
    "    \n",
    "    if response ==366:\n",
    "        print(\"You have cleared this first round\")\n",
    "        response = input(\"What is the month which has extra day \").lower()\n",
    "        if response == \"february\":\n",
    "            print(\"You have cleared the test\")\n",
    "            break\n",
    "        else:\n",
    "            print(\"You have failed the test\")\n",
    "            break\n",
    "    else:\n",
    "        print(\"Your input is wrong please try again\")"
   ]
  },
  {
   "cell_type": "markdown",
   "metadata": {},
   "source": [
    "# Using Not Operator with Python If Else"
   ]
  },
  {
   "cell_type": "code",
   "execution_count": 2,
   "metadata": {},
   "outputs": [
    {
     "name": "stdout",
     "output_type": "stream",
     "text": [
      "The number 10 is less than 20\n"
     ]
    }
   ],
   "source": [
    "a =10\n",
    "b =20\n",
    "if not a>b:\n",
    "    print(\"The number %d is less than %d\"%(a,b))"
   ]
  },
  {
   "cell_type": "code",
   "execution_count": 4,
   "metadata": {},
   "outputs": [
    {
     "name": "stdout",
     "output_type": "stream",
     "text": [
      "X is not 0\n"
     ]
    }
   ],
   "source": [
    "x = 0\n",
    "if not x:\n",
    "    print(\"X is not %d\"%(x))\n",
    "else:\n",
    "    print(\"X is %d\"%(x))"
   ]
  },
  {
   "cell_type": "markdown",
   "metadata": {},
   "source": [
    "# Using And Operator with If Else"
   ]
  },
  {
   "cell_type": "code",
   "execution_count": 7,
   "metadata": {},
   "outputs": [
    {
     "name": "stdout",
     "output_type": "stream",
     "text": [
      "AVG =  20.0\n",
      "20 is higher than 10\n"
     ]
    }
   ],
   "source": [
    "a = 10\n",
    "b = 20\n",
    "c = 30\n",
    "\n",
    "avg = (a+b+c)/3\n",
    "print(\"AVG = \",avg)\n",
    "\n",
    "if avg>a and avg>b and avg>c:\n",
    "    print(\"%d is higher than %d, %d,%d\" %(avg,a,b,c))\n",
    "elif avg> a and avg> b:\n",
    "    print(\"%d is higher than %d,%d\" %(avg,a,b))\n",
    "elif avg>a and avg>c:\n",
    "    print(\"%d is higher than %d,%d\" %(avg,a,c))\n",
    "elif avg>b and avg>c:\n",
    "    print(\"%d is higher than %d,%d\" %(avg,b,c))\n",
    "elif avg>a:\n",
    "    print(\"%d is higher than %d\" %(avg,a))\n",
    "elif avg>b:\n",
    "    print(\"%d is higher than %d\" %(avg,b))\n",
    "elif avg>c:\n",
    "    print(\"%d is higher than %d\" %(avg,c))"
   ]
  },
  {
   "cell_type": "markdown",
   "metadata": {},
   "source": [
    "# Using In Operator with If Else"
   ]
  },
  {
   "cell_type": "markdown",
   "metadata": {},
   "source": [
    "Python “in” operator allows comparing a variable against multiple values in a single line. It makes decision making more comfortable by reducing the use of many if-elif statements."
   ]
  },
  {
   "cell_type": "code",
   "execution_count": 8,
   "metadata": {},
   "outputs": [
    {
     "name": "stdout",
     "output_type": "stream",
     "text": [
      "Allowed Item: 1\n",
      "Allowed Item: 10\n",
      "Allowed Item: 20\n",
      "Allowed Item: 30\n"
     ]
    }
   ],
   "source": [
    "num_list = [1, 10, 2, 20, 3, 30]\n",
    "for num in num_list:\n",
    "    if not num in (2, 3):\n",
    "        print (\"Allowed Item:\", num)"
   ]
  },
  {
   "cell_type": "code",
   "execution_count": 9,
   "metadata": {},
   "outputs": [
    {
     "name": "stdout",
     "output_type": "stream",
     "text": [
      "Nick also plays from team2 \n",
      "Alex also plays from team2 \n"
     ]
    }
   ],
   "source": [
    "team1 =[\"Jake\", \"Allan\", \"Nick\", \"Alex\", \"Dave\"]\n",
    "team2 =[\"David\", \"John\", \"Chris\", \"Alex\", \"Nick\"]\n",
    "\n",
    "for aplayer in team1:\n",
    "    if aplayer in team2:\n",
    "        print(\"%s also plays from team2 \" %(aplayer))"
   ]
  },
  {
   "cell_type": "code",
   "execution_count": 10,
   "metadata": {},
   "outputs": [
    {
     "name": "stdout",
     "output_type": "stream",
     "text": [
      "Shahzeb also takes the other subjects \n",
      "Ali also takes the other subjects \n",
      "Asad also takes the other subjects \n"
     ]
    }
   ],
   "source": [
    "student1 = [\"Shahzeb\",\"Ali\",\"Ahmed\",\"Ehtisham\",\"Ehsan\",\"Asad\"]\n",
    "student2 = [\"Shahzeb\",\"Sufyan\",\"Afnan\",\"Ali\",\"Daniyal\",\"Asad\"]\n",
    "\n",
    "for s in student1:\n",
    "    if s in student2:\n",
    "        print(\"%s also takes the other subjects \" %(s))"
   ]
  },
  {
   "cell_type": "markdown",
   "metadata": {},
   "source": [
    "## Check whether a number is divisible by 5 and 11 or not"
   ]
  },
  {
   "cell_type": "code",
   "execution_count": 14,
   "metadata": {},
   "outputs": [
    {
     "name": "stdout",
     "output_type": "stream",
     "text": [
      "Enter the number11000\n",
      "Yes Number is Divisible by 5 and 11\n"
     ]
    }
   ],
   "source": [
    "num = int(input(\"Enter the number\"))\n",
    "\n",
    "if num %5==0 and num%11==0:\n",
    "    print(\"Yes Number is Divisible by 5 and 11\")\n",
    "else:\n",
    "    print(\"No Number is not divisible by 5 and 11\")"
   ]
  },
  {
   "cell_type": "markdown",
   "metadata": {},
   "source": [
    "### Check whether a character is alphabet or digit "
   ]
  },
  {
   "cell_type": "code",
   "execution_count": 27,
   "metadata": {},
   "outputs": [
    {
     "name": "stdout",
     "output_type": "stream",
     "text": [
      "Enter the charactera\n",
      "The Character is Alphabet\n"
     ]
    }
   ],
   "source": [
    "char = input(\"Enter the character\")\n",
    "\n",
    "\n",
    "if char>='0' and char<='9':\n",
    "    print(\"The Character is digit\")\n",
    "else:\n",
    "    print(\"The Character is Alphabet\")"
   ]
  },
  {
   "cell_type": "markdown",
   "metadata": {},
   "source": [
    "# Check Vowel or Consonant"
   ]
  },
  {
   "cell_type": "code",
   "execution_count": 29,
   "metadata": {},
   "outputs": [
    {
     "name": "stdout",
     "output_type": "stream",
     "text": [
      "Enter a character: v\n",
      "v is a Consonant\n"
     ]
    }
   ],
   "source": [
    "ch = input(\"Enter a character: \")\n",
    "\n",
    "if(ch=='A' or ch=='a' or ch=='E' or ch =='e' or ch=='I'\n",
    " or ch=='i' or ch=='O' or ch=='o' or ch=='U' or ch=='u'):\n",
    "    print(ch, \"is a Vowel\")\n",
    "else:\n",
    "    print(ch, \"is a Consonant\")"
   ]
  },
  {
   "cell_type": "markdown",
   "metadata": {},
   "source": [
    "# Check Alphabet"
   ]
  },
  {
   "cell_type": "code",
   "execution_count": 30,
   "metadata": {},
   "outputs": [
    {
     "name": "stdout",
     "output_type": "stream",
     "text": [
      "Enter a character: a\n",
      "a is an Alphabet\n"
     ]
    }
   ],
   "source": [
    "ch = input(\"Enter a character: \")\n",
    "if((ch>='a' and ch<= 'z') or (ch>='A' and ch<='Z')):\n",
    "    print(ch, \"is an Alphabet\")\n",
    "else:\n",
    "    print(ch, \"is not an Alphabet\")"
   ]
  },
  {
   "cell_type": "markdown",
   "metadata": {},
   "source": [
    "# Check Grades"
   ]
  },
  {
   "cell_type": "code",
   "execution_count": 35,
   "metadata": {},
   "outputs": [
    {
     "name": "stdout",
     "output_type": "stream",
     "text": [
      "Enter the Number76\n",
      "Your Grade is D\n"
     ]
    }
   ],
   "source": [
    "num = int(input(\"Enter the Number\"))\n",
    "\n",
    "if num ==100:\n",
    "    print(\"Your grade is A\")\n",
    "elif num >=90:\n",
    "    print(\"Your Grade is B\")\n",
    "elif num>=80:\n",
    "    print(\"Your Grade is C\")\n",
    "elif num>=70:\n",
    "    print(\"Your Grade is D\")\n",
    "elif num>=60:\n",
    "    print(\"Your Grade is E\")\n",
    "else:\n",
    "    print(\"Your Grade is F\")"
   ]
  },
  {
   "cell_type": "markdown",
   "metadata": {},
   "source": [
    "### Find those numbers which are divisible by 7 and multiple of 5, between 1500 and 2700"
   ]
  },
  {
   "cell_type": "code",
   "execution_count": 36,
   "metadata": {},
   "outputs": [
    {
     "name": "stdout",
     "output_type": "stream",
     "text": [
      "1505,1540,1575,1610,1645,1680,1715,1750,1785,1820,1855,1890,1925,1960,1995,2030,2065,2100,2135,2170,2205,2240,2275,2310,2345,2380,2415,2450,2485,2520,2555,2590,2625,2660,2695\n"
     ]
    }
   ],
   "source": [
    "nl=[]\n",
    "for x in range(1500, 2701):\n",
    "    if (x%7==0) and (x%5==0):\n",
    "        nl.append(str(x))\n",
    "print (','.join(nl))"
   ]
  },
  {
   "cell_type": "markdown",
   "metadata": {},
   "source": [
    "# Convert temperatures to and from celsius, fahrenheit"
   ]
  },
  {
   "cell_type": "code",
   "execution_count": 37,
   "metadata": {},
   "outputs": [
    {
     "data": {
      "image/png": "[encoded data removed]",
      "text/plain": [
       "<IPython.core.display.Image object>"
      ]
     },
     "execution_count": 37,
     "metadata": {},
     "output_type": "execute_result"
    }
   ],
   "source": [
    "from IPython.display import Image\n",
    "Image(\"Capture.png\")"
   ]
  },
  {
   "cell_type": "code",
   "execution_count": 1,
   "metadata": {},
   "outputs": [
    {
     "name": "stdout",
     "output_type": "stream",
     "text": [
      "Input the  temperature you like to convert? (e.g., 45F, 102C etc.) : 103c\n",
      "The temperature in Fahrenheit is 217 degrees.\n"
     ]
    }
   ],
   "source": [
    "temp = input(\"Input the  temperature you like to convert? (e.g., 45F, 102C etc.) : \")\n",
    "degree = int(temp[:-1])\n",
    "i_convention = temp[-1]\n",
    "\n",
    "if i_convention.upper() == \"C\":\n",
    "  result = int(round((9 * degree) / 5 + 32))\n",
    "  o_convention = \"Fahrenheit\"\n",
    "elif i_convention.upper() == \"F\":\n",
    "  result = int(round((degree - 32) * 5 / 9))\n",
    "  o_convention = \"Celsius\"\n",
    "else:\n",
    "  print(\"Input proper convention.\")\n",
    "  quit()\n",
    "print(\"The temperature in\", o_convention, \"is\", result, \"degrees.\")"
   ]
  },
  {
   "cell_type": "code",
   "execution_count": null,
   "metadata": {},
   "outputs": [],
   "source": []
  }
 ],
 "metadata": {
  "kernelspec": {
   "display_name": "Python 3",
   "language": "python",
   "name": "python3"
  },
  "language_info": {
   "codemirror_mode": {
    "name": "ipython",
    "version": 3
   },
   "file_extension": ".py",
   "mimetype": "text/x-python",
   "name": "python",
   "nbconvert_exporter": "python",
   "pygments_lexer": "ipython3",
   "version": "3.7.3"
  }
 },
 "nbformat": 4,
 "nbformat_minor": 2
}
